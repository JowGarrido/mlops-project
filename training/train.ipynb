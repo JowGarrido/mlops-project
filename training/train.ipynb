{
 "cells": [
  {
   "cell_type": "code",
   "execution_count": 1,
   "source": [
    "# Importando bibiliotecas \n",
    "import tensorflow \n",
    "from tensorflow import keras\n",
    "from tensorflow.keras.models import Sequential\n",
    "from tensorflow.keras.layers import Dense\n",
    "from tensorflow.keras.layers import Dropout\n",
    "from tensorflow.keras.optimizers import Adam\n",
    "from tensorflow.keras.utils import to_categorical\n",
    "import keras_tuner \n",
    "from google.cloud import aiplatform\n",
    "\n",
    "from sklearn.model_selection import train_test_split\n",
    "from sklearn.preprocessing import StandardScaler\n",
    "\n",
    "import numpy\n",
    "import pandas\n",
    "import json, os"
   ],
   "outputs": [],
   "metadata": {}
  },
  {
   "cell_type": "code",
   "execution_count": 1,
   "source": [
    "# Declarando variáveis\n",
    "REGION = \"us-central1\"\n",
    "PROJECT_ID = \"ml-demos-garrido\"\n",
    "MODEL_PATH='gs://'+PROJECT_ID+'-bucket/model/'\n",
    "DATASET_PATH='gs://'+PROJECT_ID+'/area_cover_dataset.csv'\n",
    "PIPELINE_ROOT = 'gs://'+PROJECT_ID\n",
    "MODEL_ARTIFACTS_LOCATION ='gs://'+PROJECT_ID+'-bucket/'"
   ],
   "outputs": [],
   "metadata": {}
  },
  {
   "cell_type": "code",
   "execution_count": 3,
   "source": [
    "# Trazendo os dados para a RAM\n",
    "area_cover_dataframe = pandas.read_csv(DATASET_PATH)"
   ],
   "outputs": [],
   "metadata": {}
  },
  {
   "cell_type": "code",
   "execution_count": 4,
   "source": [
    "# Pré-processamento de dados (indexing)\n",
    "def index(dataframe):\n",
    "    \n",
    "    categoricals = dataframe.dtypes.loc[lambda x: x == 'O'].index.tolist()\n",
    "    reverse_transform = {}\n",
    "    \n",
    "    for col in categoricals:\n",
    "        numerical = pandas.Series(dataframe[col].unique()).reset_index().set_index(0).to_dict()[\"index\"]\n",
    "        reverse_transform[col] = numerical\n",
    "        dataframe[col] = dataframe[col].map(numerical)\n",
    "        \n",
    "    return dataframe"
   ],
   "outputs": [],
   "metadata": {}
  },
  {
   "cell_type": "code",
   "execution_count": 5,
   "source": [
    "# Pré-processamento (extração de features e scaling)\n",
    "indexed_dataframe = index(area_cover_dataframe)\n",
    "features_dataframe = indexed_dataframe.drop(\"Area_Cover\", axis = 1)\n",
    "standard_scaler = StandardScaler()\n",
    "\n",
    "scaled_features = pandas.DataFrame(standard_scaler.fit_transform(features_dataframe),\n",
    "                                   columns=features_dataframe.columns)"
   ],
   "outputs": [],
   "metadata": {}
  },
  {
   "cell_type": "code",
   "execution_count": 6,
   "source": [
    "# Pré-processamento (categorical -> numerical)\n",
    "labels_dataframe = indexed_dataframe[\"Area_Cover\"].values\n",
    "categorical_labels = to_categorical(labels_dataframe)"
   ],
   "outputs": [],
   "metadata": {}
  },
  {
   "cell_type": "code",
   "execution_count": 7,
   "source": [
    "# Train test split\n",
    "dfx_train, dfx_val, dfy_train, dfy_val = train_test_split(scaled_features.values, \n",
    "                                                          categorical_labels, test_size=0.2)"
   ],
   "outputs": [],
   "metadata": {}
  },
  {
   "cell_type": "code",
   "execution_count": 8,
   "source": [
    "# Arquitetura da rede de classificação\n",
    "def build_model(hptune):\n",
    "    model = Sequential()\n",
    "    model.add(Dense(10, input_shape = (12,), activation = 'relu'))\n",
    "    model.add(Dropout(.2))\n",
    "    model.add(Dense(7, activation = 'softmax'))\n",
    "    \n",
    "    learning_rate = hptune.Choice('learning_rate', \n",
    "                                 values=[1e-2, 1e-3, 1e-4])\n",
    "\n",
    "    model.compile(optimizer=Adam(learning_rate=learning_rate),\n",
    "                  loss='mse',\n",
    "                  metrics=['accuracy'])\n",
    "    \n",
    "    return model"
   ],
   "outputs": [],
   "metadata": {}
  },
  {
   "cell_type": "code",
   "execution_count": 9,
   "source": [
    "# Tuning de hiperparâmetros\n",
    "tuner = keras_tuner.Hyperband(build_model, overwrite=True, objective='accuracy')"
   ],
   "outputs": [
    {
     "output_type": "stream",
     "name": "stderr",
     "text": [
      "2022-05-27 19:35:13.129803: I tensorflow/core/common_runtime/process_util.cc:146] Creating new thread pool with default inter op setting: 2. Tune using inter_op_parallelism_threads for best performance.\n"
     ]
    }
   ],
   "metadata": {}
  },
  {
   "cell_type": "code",
   "execution_count": 10,
   "source": [
    "## Definição de early-stopping\n",
    "stop_early = tensorflow.keras.callbacks.EarlyStopping(monitor='val_loss', patience=5)\n",
    "\n",
    "# Keras tuning search\n",
    "tuner.search(dfx_train, dfy_train, epochs=50, validation_split=0.2, callbacks=[stop_early])\n",
    "\n",
    "# Obtendo os hiperparâmetros ótimos\n",
    "best_hyperparameters=tuner.get_best_hyperparameters(num_trials=10)[0]"
   ],
   "outputs": [
    {
     "output_type": "stream",
     "name": "stdout",
     "text": [
      "Trial 3 Complete [00h 00m 11s]\n",
      "accuracy: 0.6892343759536743\n",
      "\n",
      "Best accuracy So Far: 0.6892343759536743\n",
      "Total elapsed time: 00h 00m 35s\n",
      "INFO:tensorflow:Oracle triggered exit\n",
      "INFO:tensorflow:Oracle triggered exit\n"
     ]
    }
   ],
   "metadata": {}
  },
  {
   "cell_type": "code",
   "execution_count": 12,
   "source": [
    "# Treinando o novo modelo com os hiperparâmetros encontrados\n",
    "model = tuner.hypermodel.build(best_hyperparameters)\n",
    "history = model.fit(dfx_train, dfy_train, epochs=50, validation_split=0.2)"
   ],
   "outputs": [
    {
     "output_type": "stream",
     "name": "stdout",
     "text": [
      "Epoch 1/50\n",
      "2000/2000 [==============================] - 7s 3ms/step - loss: 0.0652 - accuracy: 0.6716 - val_loss: 0.0594 - val_accuracy: 0.6989\n",
      "Epoch 2/50\n",
      "2000/2000 [==============================] - 5s 2ms/step - loss: 0.0616 - accuracy: 0.6906 - val_loss: 0.0585 - val_accuracy: 0.7041\n",
      "Epoch 3/50\n",
      "2000/2000 [==============================] - 5s 3ms/step - loss: 0.0612 - accuracy: 0.6936 - val_loss: 0.0587 - val_accuracy: 0.7058\n",
      "Epoch 4/50\n",
      "2000/2000 [==============================] - 5s 3ms/step - loss: 0.0612 - accuracy: 0.6938 - val_loss: 0.0583 - val_accuracy: 0.7100\n",
      "Epoch 5/50\n",
      "2000/2000 [==============================] - 5s 3ms/step - loss: 0.0612 - accuracy: 0.6933 - val_loss: 0.0585 - val_accuracy: 0.7099\n",
      "Epoch 6/50\n",
      "2000/2000 [==============================] - 5s 2ms/step - loss: 0.0612 - accuracy: 0.6941 - val_loss: 0.0587 - val_accuracy: 0.7086\n",
      "Epoch 7/50\n",
      "2000/2000 [==============================] - 5s 2ms/step - loss: 0.0612 - accuracy: 0.6950 - val_loss: 0.0586 - val_accuracy: 0.7082\n",
      "Epoch 8/50\n",
      "2000/2000 [==============================] - 5s 2ms/step - loss: 0.0612 - accuracy: 0.6933 - val_loss: 0.0588 - val_accuracy: 0.7071\n",
      "Epoch 9/50\n",
      "2000/2000 [==============================] - 5s 3ms/step - loss: 0.0610 - accuracy: 0.6936 - val_loss: 0.0586 - val_accuracy: 0.7088\n",
      "Epoch 10/50\n",
      "2000/2000 [==============================] - 5s 2ms/step - loss: 0.0610 - accuracy: 0.6957 - val_loss: 0.0585 - val_accuracy: 0.7090\n",
      "Epoch 11/50\n",
      "2000/2000 [==============================] - 5s 3ms/step - loss: 0.0608 - accuracy: 0.6980 - val_loss: 0.0580 - val_accuracy: 0.7103\n",
      "Epoch 12/50\n",
      "2000/2000 [==============================] - 5s 3ms/step - loss: 0.0608 - accuracy: 0.6959 - val_loss: 0.0576 - val_accuracy: 0.7132\n",
      "Epoch 13/50\n",
      "2000/2000 [==============================] - 6s 3ms/step - loss: 0.0609 - accuracy: 0.6960 - val_loss: 0.0585 - val_accuracy: 0.7120\n",
      "Epoch 14/50\n",
      "2000/2000 [==============================] - 6s 3ms/step - loss: 0.0609 - accuracy: 0.6966 - val_loss: 0.0585 - val_accuracy: 0.7104\n",
      "Epoch 15/50\n",
      "2000/2000 [==============================] - 5s 3ms/step - loss: 0.0607 - accuracy: 0.6978 - val_loss: 0.0586 - val_accuracy: 0.7057\n",
      "Epoch 16/50\n",
      "2000/2000 [==============================] - 5s 2ms/step - loss: 0.0607 - accuracy: 0.6961 - val_loss: 0.0580 - val_accuracy: 0.7077\n",
      "Epoch 17/50\n",
      "2000/2000 [==============================] - 6s 3ms/step - loss: 0.0607 - accuracy: 0.6964 - val_loss: 0.0579 - val_accuracy: 0.7089\n",
      "Epoch 18/50\n",
      "2000/2000 [==============================] - 5s 2ms/step - loss: 0.0607 - accuracy: 0.6967 - val_loss: 0.0591 - val_accuracy: 0.7052\n",
      "Epoch 19/50\n",
      "2000/2000 [==============================] - 6s 3ms/step - loss: 0.0608 - accuracy: 0.6976 - val_loss: 0.0582 - val_accuracy: 0.7092\n",
      "Epoch 20/50\n",
      "2000/2000 [==============================] - 5s 3ms/step - loss: 0.0608 - accuracy: 0.6976 - val_loss: 0.0575 - val_accuracy: 0.7126\n",
      "Epoch 21/50\n",
      "2000/2000 [==============================] - 5s 3ms/step - loss: 0.0608 - accuracy: 0.6977 - val_loss: 0.0577 - val_accuracy: 0.7132\n",
      "Epoch 22/50\n",
      "2000/2000 [==============================] - 6s 3ms/step - loss: 0.0607 - accuracy: 0.6996 - val_loss: 0.0583 - val_accuracy: 0.7141\n",
      "Epoch 23/50\n",
      "2000/2000 [==============================] - 6s 3ms/step - loss: 0.0607 - accuracy: 0.7003 - val_loss: 0.0596 - val_accuracy: 0.7057\n",
      "Epoch 24/50\n",
      "2000/2000 [==============================] - 6s 3ms/step - loss: 0.0607 - accuracy: 0.6996 - val_loss: 0.0584 - val_accuracy: 0.7120\n",
      "Epoch 25/50\n",
      "2000/2000 [==============================] - 5s 3ms/step - loss: 0.0607 - accuracy: 0.6983 - val_loss: 0.0581 - val_accuracy: 0.7113\n",
      "Epoch 26/50\n",
      "2000/2000 [==============================] - 5s 3ms/step - loss: 0.0606 - accuracy: 0.7000 - val_loss: 0.0580 - val_accuracy: 0.7118\n",
      "Epoch 27/50\n",
      "2000/2000 [==============================] - 6s 3ms/step - loss: 0.0607 - accuracy: 0.6986 - val_loss: 0.0583 - val_accuracy: 0.7104\n",
      "Epoch 28/50\n",
      "2000/2000 [==============================] - 6s 3ms/step - loss: 0.0608 - accuracy: 0.6985 - val_loss: 0.0576 - val_accuracy: 0.7139\n",
      "Epoch 29/50\n",
      "2000/2000 [==============================] - 5s 3ms/step - loss: 0.0606 - accuracy: 0.6994 - val_loss: 0.0574 - val_accuracy: 0.7152\n",
      "Epoch 30/50\n",
      "2000/2000 [==============================] - 5s 2ms/step - loss: 0.0609 - accuracy: 0.6972 - val_loss: 0.0586 - val_accuracy: 0.7063\n",
      "Epoch 31/50\n",
      "2000/2000 [==============================] - 5s 3ms/step - loss: 0.0608 - accuracy: 0.6999 - val_loss: 0.0579 - val_accuracy: 0.7104\n",
      "Epoch 32/50\n",
      "2000/2000 [==============================] - 5s 3ms/step - loss: 0.0607 - accuracy: 0.6990 - val_loss: 0.0582 - val_accuracy: 0.7062\n",
      "Epoch 33/50\n",
      "2000/2000 [==============================] - 6s 3ms/step - loss: 0.0608 - accuracy: 0.6988 - val_loss: 0.0581 - val_accuracy: 0.7111\n",
      "Epoch 34/50\n",
      "2000/2000 [==============================] - 5s 3ms/step - loss: 0.0608 - accuracy: 0.6995 - val_loss: 0.0585 - val_accuracy: 0.7084\n",
      "Epoch 35/50\n",
      "2000/2000 [==============================] - 5s 3ms/step - loss: 0.0608 - accuracy: 0.6992 - val_loss: 0.0582 - val_accuracy: 0.7141\n",
      "Epoch 36/50\n",
      "2000/2000 [==============================] - 6s 3ms/step - loss: 0.0607 - accuracy: 0.6993 - val_loss: 0.0583 - val_accuracy: 0.7121\n",
      "Epoch 37/50\n",
      "2000/2000 [==============================] - 5s 3ms/step - loss: 0.0609 - accuracy: 0.6996 - val_loss: 0.0577 - val_accuracy: 0.7115\n",
      "Epoch 38/50\n",
      "2000/2000 [==============================] - 6s 3ms/step - loss: 0.0606 - accuracy: 0.6999 - val_loss: 0.0583 - val_accuracy: 0.7096\n",
      "Epoch 39/50\n",
      "2000/2000 [==============================] - 5s 3ms/step - loss: 0.0607 - accuracy: 0.6997 - val_loss: 0.0596 - val_accuracy: 0.7044\n",
      "Epoch 40/50\n",
      "2000/2000 [==============================] - 5s 2ms/step - loss: 0.0606 - accuracy: 0.6997 - val_loss: 0.0577 - val_accuracy: 0.7108\n",
      "Epoch 41/50\n",
      "2000/2000 [==============================] - 5s 3ms/step - loss: 0.0606 - accuracy: 0.6998 - val_loss: 0.0582 - val_accuracy: 0.7069\n",
      "Epoch 42/50\n",
      "2000/2000 [==============================] - 6s 3ms/step - loss: 0.0607 - accuracy: 0.6991 - val_loss: 0.0599 - val_accuracy: 0.7064\n",
      "Epoch 43/50\n",
      "2000/2000 [==============================] - 6s 3ms/step - loss: 0.0605 - accuracy: 0.7017 - val_loss: 0.0571 - val_accuracy: 0.7141\n",
      "Epoch 44/50\n",
      "2000/2000 [==============================] - 6s 3ms/step - loss: 0.0607 - accuracy: 0.7002 - val_loss: 0.0585 - val_accuracy: 0.7123\n",
      "Epoch 45/50\n",
      "2000/2000 [==============================] - 5s 3ms/step - loss: 0.0607 - accuracy: 0.6990 - val_loss: 0.0577 - val_accuracy: 0.7135\n",
      "Epoch 46/50\n",
      "2000/2000 [==============================] - 5s 2ms/step - loss: 0.0610 - accuracy: 0.6997 - val_loss: 0.0581 - val_accuracy: 0.7114\n",
      "Epoch 47/50\n",
      "2000/2000 [==============================] - 5s 3ms/step - loss: 0.0607 - accuracy: 0.6999 - val_loss: 0.0589 - val_accuracy: 0.7082\n",
      "Epoch 48/50\n",
      "2000/2000 [==============================] - 5s 3ms/step - loss: 0.0608 - accuracy: 0.6989 - val_loss: 0.0585 - val_accuracy: 0.7105\n",
      "Epoch 49/50\n",
      "2000/2000 [==============================] - 5s 3ms/step - loss: 0.0606 - accuracy: 0.7009 - val_loss: 0.0587 - val_accuracy: 0.7007\n",
      "Epoch 50/50\n",
      "2000/2000 [==============================] - 6s 3ms/step - loss: 0.0609 - accuracy: 0.7004 - val_loss: 0.0578 - val_accuracy: 0.7112\n"
     ]
    }
   ],
   "metadata": {}
  },
  {
   "cell_type": "code",
   "execution_count": null,
   "source": [
    "# Recuperando melhor validation accuracy histórica\n",
    "val_acc_per_epoch = history.history['val_accuracy']\n",
    "best_epoch = val_acc_per_epoch.index(max(val_acc_per_epoch)) + 1\n",
    "print('Best epoch: %d' % (best_epoch,))"
   ],
   "outputs": [],
   "metadata": {}
  },
  {
   "cell_type": "code",
   "execution_count": null,
   "source": [
    "# Avaliando test loss e accuracy\n",
    "eval_result = model.evaluate(dfx_val, dfy_val)\n",
    "print(\"[Model test loss, test accuracy]:\", eval_result)"
   ],
   "outputs": [],
   "metadata": {}
  },
  {
   "cell_type": "code",
   "execution_count": null,
   "source": [
    "# Redefinindo o tuner do modelo com os melhores hiperparâmetros\n",
    "hypermodel = tuner.hypermodel.build(best_hyperparameters)\n",
    "# Retreinando o modelo com os melhores hiperparâmetros\n",
    "hypermodel.fit(dfx_train, dfy_train, epochs=best_epoch, validation_split=0.2)"
   ],
   "outputs": [],
   "metadata": {}
  },
  {
   "cell_type": "code",
   "execution_count": null,
   "source": [
    "# Avaliando test loss e accuracy para o modelo final\n",
    "eval_result = hypermodel.evaluate(dfx_val, dfy_val)\n",
    "print(\"[Hypermodel test loss, test accuracy]:\", eval_result)"
   ],
   "outputs": [],
   "metadata": {}
  },
  {
   "cell_type": "code",
   "execution_count": null,
   "source": [
    "# Salvando os pesos do modelo\n",
    "hypermodel.save(MODEL_PATH)"
   ],
   "outputs": [],
   "metadata": {}
  }
 ],
 "metadata": {
  "environment": {
   "kernel": "python3",
   "name": "tf2-gpu.2-6.m91",
   "type": "gcloud",
   "uri": "gcr.io/deeplearning-platform-release/tf2-gpu.2-6:m91"
  },
  "kernelspec": {
   "name": "python3",
   "display_name": "Python 3.9.6 64-bit"
  },
  "language_info": {
   "codemirror_mode": {
    "name": "ipython",
    "version": 3
   },
   "file_extension": ".py",
   "mimetype": "text/x-python",
   "name": "python",
   "nbconvert_exporter": "python",
   "pygments_lexer": "ipython3",
   "version": "3.9.6"
  },
  "interpreter": {
   "hash": "aee8b7b246df8f9039afb4144a1f6fd8d2ca17a180786b69acc140d282b71a49"
  }
 },
 "nbformat": 4,
 "nbformat_minor": 5
}
